{
 "cells": [
  {
   "cell_type": "code",
   "execution_count": 16,
   "id": "0d2711f3-1129-4eff-8586-ee25f0068a61",
   "metadata": {},
   "outputs": [],
   "source": [
    "import kfp\n",
    "import kfp.v2.dsl as dsl\n",
    "from kfp.v2.dsl import component\n",
    "from kfp import compiler"
   ]
  },
  {
   "cell_type": "code",
   "execution_count": 17,
   "id": "45f49a2c-9c9f-4257-a3b6-6edbf9084349",
   "metadata": {},
   "outputs": [],
   "source": [
    "@dsl.component\n",
    "def addition_component(num1: int, num2: int) -> int:\n",
    "    return num1 + num2\n",
    "\n",
    "@dsl.pipeline(name='addition-pipeline')\n",
    "def my_pipeline(a: int, b: int, c: int=10):\n",
    "    add_task1 = addition_component(num1=a, num2=b)\n",
    "    add_task2 = addition_component(num1=add_task1.output, num2=c)"
   ]
  },
  {
   "cell_type": "code",
   "execution_count": 18,
   "id": "4961ff9d-c76f-47c8-a018-d2259cfd8ed4",
   "metadata": {},
   "outputs": [
    {
     "name": "stderr",
     "output_type": "stream",
     "text": [
      "/opt/conda/lib/python3.8/site-packages/kfp/compiler/compiler.py:79: UserWarning: V2_COMPATIBLE execution mode is at Beta quality. Some pipeline features may not work as expected.\n",
      "  warnings.warn('V2_COMPATIBLE execution mode is at Beta quality.'\n"
     ]
    }
   ],
   "source": [
    "mode=kfp.dsl.PipelineExecutionMode.V2_COMPATIBLE\n",
    "cmplr=compiler.Compiler(mode)"
   ]
  },
  {
   "cell_type": "code",
   "execution_count": 21,
   "id": "20ff2645-bf45-40b4-9a46-d5272cdf7e0f",
   "metadata": {},
   "outputs": [],
   "source": [
    "cmplr.compile(pipeline_func=my_pipeline,package_path='pipeline01.yaml')"
   ]
  }
 ],
 "metadata": {
  "kernelspec": {
   "display_name": "Python 3 (ipykernel)",
   "language": "python",
   "name": "python3"
  },
  "language_info": {
   "codemirror_mode": {
    "name": "ipython",
    "version": 3
   },
   "file_extension": ".py",
   "mimetype": "text/x-python",
   "name": "python",
   "nbconvert_exporter": "python",
   "pygments_lexer": "ipython3",
   "version": "3.8.10"
  }
 },
 "nbformat": 4,
 "nbformat_minor": 5
}
