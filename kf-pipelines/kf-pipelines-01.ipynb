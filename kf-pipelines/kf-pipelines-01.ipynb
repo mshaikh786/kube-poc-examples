{
 "cells": [
  {
   "cell_type": "code",
   "execution_count": 2,
   "id": "0d2711f3-1129-4eff-8586-ee25f0068a61",
   "metadata": {},
   "outputs": [],
   "source": [
    "from kfp import compiler"
   ]
  },
  {
   "cell_type": "code",
   "execution_count": 3,
   "id": "491b43ea-2e93-4ceb-a852-7bcce3870e99",
   "metadata": {},
   "outputs": [],
   "source": [
    "from kfp.v2 import dsl"
   ]
  },
  {
   "cell_type": "code",
   "execution_count": 7,
   "id": "45f49a2c-9c9f-4257-a3b6-6edbf9084349",
   "metadata": {},
   "outputs": [],
   "source": [
    "@dsl.component\n",
    "def addition_component(num1: int, num2: int) -> int:\n",
    "    return num1 + num2\n",
    "\n",
    "@dsl.pipeline(name='addition-pipeline')\n",
    "def my_pipeline(a: int, b: int, c: int=10):\n",
    "    add_task1 = addition_component(num1=a, num2=b)\n",
    "    add_task2 = addition_component(num1=add_task1.output, num2=c)"
   ]
  },
  {
   "cell_type": "code",
   "execution_count": 5,
   "id": "4961ff9d-c76f-47c8-a018-d2259cfd8ed4",
   "metadata": {},
   "outputs": [],
   "source": [
    "cmplr = compiler.Compiler()"
   ]
  },
  {
   "cell_type": "code",
   "execution_count": 8,
   "id": "20ff2645-bf45-40b4-9a46-d5272cdf7e0f",
   "metadata": {},
   "outputs": [],
   "source": [
    "cmplr.compile(my_pipeline, package_path='my_pipeline.yaml')"
   ]
  },
  {
   "cell_type": "code",
   "execution_count": null,
   "id": "1a2910d9-90b0-4045-aedf-417429a4e58e",
   "metadata": {},
   "outputs": [],
   "source": []
  },
  {
   "cell_type": "code",
   "execution_count": null,
   "id": "ff97edd1-657e-4ee2-85c3-64899e949b78",
   "metadata": {},
   "outputs": [],
   "source": []
  }
 ],
 "metadata": {
  "kernelspec": {
   "display_name": "Python 3 (ipykernel)",
   "language": "python",
   "name": "python3"
  },
  "language_info": {
   "codemirror_mode": {
    "name": "ipython",
    "version": 3
   },
   "file_extension": ".py",
   "mimetype": "text/x-python",
   "name": "python",
   "nbconvert_exporter": "python",
   "pygments_lexer": "ipython3",
   "version": "3.8.10"
  }
 },
 "nbformat": 4,
 "nbformat_minor": 5
}
