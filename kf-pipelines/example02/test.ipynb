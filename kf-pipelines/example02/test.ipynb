{
 "cells": [
  {
   "cell_type": "code",
   "execution_count": 1,
   "id": "6dc6db41-23c6-44ba-8377-9a3c657982c6",
   "metadata": {},
   "outputs": [],
   "source": [
    "!pip install --upgrade -q kfp==2.0.0b8"
   ]
  },
  {
   "cell_type": "code",
   "execution_count": 3,
   "id": "b68c99fd-0332-48df-b81a-1847d4f0fa15",
   "metadata": {},
   "outputs": [],
   "source": [
    "import torch\n",
    "import torchvision"
   ]
  },
  {
   "cell_type": "code",
   "execution_count": 7,
   "id": "0d2711f3-1129-4eff-8586-ee25f0068a61",
   "metadata": {},
   "outputs": [],
   "source": [
    "import os\n",
    "import kfp\n",
    "from kfp import compiler\n",
    "from kfp import dsl"
   ]
  },
  {
   "cell_type": "code",
   "execution_count": 2,
   "id": "8d57cf44-932d-47b8-bcce-83d7806633c2",
   "metadata": {},
   "outputs": [],
   "source": [
    "from my_helper_module import get_model,compile_and_train"
   ]
  },
  {
   "cell_type": "code",
   "execution_count": null,
   "id": "45f49a2c-9c9f-4257-a3b6-6edbf9084349",
   "metadata": {},
   "outputs": [],
   "source": [
    "@dsl.container_component\n",
    "def my_component(\n",
    "            dataset_path: InputPath(Dataset),\n",
    "            model: Output[Model],\n",
    "            num_epochs: int,\n",
    "            output_parameter: OutputPath(str),\n",
    "        ):\n",
    "            return ContainerSpec(\n",
    "                image='gcr.io/my-image',\n",
    "                command=['sh', 'my_component.sh'],\n",
    "                args=[\n",
    "                '--dataset_path', dataset_path,\n",
    "                '--model_path', model.path,\n",
    "                '--output_parameter_path', output_parameter,\n",
    "            ]\n",
    "        )"
   ]
  },
  {
   "cell_type": "code",
   "execution_count": null,
   "id": "4961ff9d-c76f-47c8-a018-d2259cfd8ed4",
   "metadata": {},
   "outputs": [],
   "source": [
    "#mode=kfp.dsl.PipelineExecutionMode.V2_COMPATIBLE\n",
    "cmplr=compiler.Compiler()"
   ]
  },
  {
   "cell_type": "code",
   "execution_count": null,
   "id": "20ff2645-bf45-40b4-9a46-d5272cdf7e0f",
   "metadata": {},
   "outputs": [],
   "source": [
    "cmplr.compile(pipeline_func=pipeline_container_no_input,\n",
    "        package_path='pipeline_container_no_input.yaml')"
   ]
  },
  {
   "cell_type": "code",
   "execution_count": 8,
   "id": "3b7f3723-e851-461f-a48a-fc72267e7db6",
   "metadata": {},
   "outputs": [
    {
     "name": "stdout",
     "output_type": "stream",
     "text": [
      "Help on function container_component in module kfp.components.container_component_decorator:\n",
      "\n",
      "container_component(func: Callable) -> kfp.components.container_component.ContainerComponent\n",
      "    Decorator for container-based components in KFP v2.\n",
      "    \n",
      "    Args:\n",
      "        func: The python function to create a component from. The function\n",
      "            should have type annotations for all its arguments, indicating how\n",
      "            it is intended to be used (e.g. as an input/output Artifact object,\n",
      "            a plain parameter, or a path to a file).\n",
      "    \n",
      "    Example:\n",
      "      ::\n",
      "    \n",
      "        from kfp.dsl import container_component, ContainerSpec, InputPath, OutputPath, Output\n",
      "    \n",
      "        @container_component\n",
      "        def my_component(\n",
      "            dataset_path: InputPath(Dataset),\n",
      "            model: Output[Model],\n",
      "            num_epochs: int,\n",
      "            output_parameter: OutputPath(str),\n",
      "        ):\n",
      "            return ContainerSpec(\n",
      "                image='gcr.io/my-image',\n",
      "                command=['sh', 'my_component.sh'],\n",
      "                args=[\n",
      "                '--dataset_path', dataset_path,\n",
      "                '--model_path', model.path,\n",
      "                '--output_parameter_path', output_parameter,\n",
      "            ]\n",
      "        )\n",
      "\n"
     ]
    }
   ],
   "source": [
    "help(dsl.container_component)"
   ]
  },
  {
   "cell_type": "code",
   "execution_count": null,
   "id": "2d42af66-411a-4b87-b435-b1f9b15df1e3",
   "metadata": {},
   "outputs": [],
   "source": []
  }
 ],
 "metadata": {
  "kernelspec": {
   "display_name": "Python 3 (ipykernel)",
   "language": "python",
   "name": "python3"
  },
  "language_info": {
   "codemirror_mode": {
    "name": "ipython",
    "version": 3
   },
   "file_extension": ".py",
   "mimetype": "text/x-python",
   "name": "python",
   "nbconvert_exporter": "python",
   "pygments_lexer": "ipython3",
   "version": "3.8.10"
  }
 },
 "nbformat": 4,
 "nbformat_minor": 5
}
