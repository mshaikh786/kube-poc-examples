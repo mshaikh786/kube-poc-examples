{
 "cells": [
  {
   "cell_type": "code",
   "execution_count": 1,
   "id": "6dc6db41-23c6-44ba-8377-9a3c657982c6",
   "metadata": {},
   "outputs": [
    {
     "name": "stdout",
     "output_type": "stream",
     "text": [
      "Found existing installation: kfp 1.4.0\n",
      "Uninstalling kfp-1.4.0:\n",
      "  Successfully uninstalled kfp-1.4.0\n"
     ]
    }
   ],
   "source": [
    "!pip uninstall -y kfp"
   ]
  },
  {
   "cell_type": "code",
   "execution_count": 2,
   "id": "a821ff80-c8dd-42d3-bc7e-ac1bfe24fd34",
   "metadata": {},
   "outputs": [
    {
     "name": "stdout",
     "output_type": "stream",
     "text": [
      "Collecting kfp==2.0.0b8\n",
      "  Using cached kfp-2.0.0b8-py3-none-any.whl\n",
      "Collecting cloudpickle<3,>=2.0.0\n",
      "  Downloading cloudpickle-2.2.0-py3-none-any.whl (25 kB)\n",
      "Requirement already satisfied: kubernetes<24,>=8.0.0 in /opt/conda/lib/python3.8/site-packages (from kfp==2.0.0b8) (11.0.0)\n",
      "Requirement already satisfied: click<9,>=7.1.2 in /opt/conda/lib/python3.8/site-packages (from kfp==2.0.0b8) (7.1.2)\n",
      "Requirement already satisfied: google-auth<3,>=1.6.1 in /opt/conda/lib/python3.8/site-packages (from kfp==2.0.0b8) (1.35.0)\n",
      "Requirement already satisfied: uritemplate<4,>=3.0.1 in /opt/conda/lib/python3.8/site-packages (from kfp==2.0.0b8) (3.0.1)\n",
      "Requirement already satisfied: tabulate<1,>=0.8.6 in /opt/conda/lib/python3.8/site-packages (from kfp==2.0.0b8) (0.8.10)\n",
      "Requirement already satisfied: typer<1.0,>=0.3.2 in /opt/conda/lib/python3.8/site-packages (from kfp==2.0.0b8) (0.6.1)\n",
      "Requirement already satisfied: kfp-pipeline-spec<0.2.0,>=0.1.16 in /opt/conda/lib/python3.8/site-packages (from kfp==2.0.0b8) (0.1.16)\n",
      "Requirement already satisfied: docstring-parser<1,>=0.7.3 in /opt/conda/lib/python3.8/site-packages (from kfp==2.0.0b8) (0.15)\n",
      "Requirement already satisfied: strip-hints<1,>=0.1.8 in /opt/conda/lib/python3.8/site-packages (from kfp==2.0.0b8) (0.1.10)\n",
      "Requirement already satisfied: Deprecated<2,>=1.2.7 in /opt/conda/lib/python3.8/site-packages (from kfp==2.0.0b8) (1.2.13)\n",
      "Collecting google-cloud-storage<3,>=2.2.1\n",
      "  Using cached google_cloud_storage-2.6.0-py2.py3-none-any.whl (105 kB)\n",
      "Requirement already satisfied: absl-py<2,>=0.9 in /opt/conda/lib/python3.8/site-packages (from kfp==2.0.0b8) (0.11.0)\n",
      "Requirement already satisfied: google-api-core!=2.0.*,!=2.1.*,!=2.2.*,!=2.3.0,<3.0.0dev,>=1.31.5 in /opt/conda/lib/python3.8/site-packages (from kfp==2.0.0b8) (2.10.1)\n",
      "Requirement already satisfied: requests-toolbelt<1,>=0.8.0 in /opt/conda/lib/python3.8/site-packages (from kfp==2.0.0b8) (0.9.1)\n",
      "Requirement already satisfied: protobuf<4,>=3.13.0 in /opt/conda/lib/python3.8/site-packages (from kfp==2.0.0b8) (3.20.2)\n",
      "Collecting kfp-server-api<3.0.0,>=2.0.0a0\n",
      "  Using cached kfp_server_api-2.0.0a6-py3-none-any.whl\n",
      "Requirement already satisfied: PyYAML<6,>=5.3 in /opt/conda/lib/python3.8/site-packages (from kfp==2.0.0b8) (5.4.1)\n",
      "Requirement already satisfied: typing-extensions<5,>=3.7.4 in /opt/conda/lib/python3.8/site-packages (from kfp==2.0.0b8) (4.3.0)\n",
      "Requirement already satisfied: fire<1,>=0.3.1 in /opt/conda/lib/python3.8/site-packages (from kfp==2.0.0b8) (0.4.0)\n",
      "Requirement already satisfied: jsonschema<4,>=3.0.1 in /opt/conda/lib/python3.8/site-packages (from kfp==2.0.0b8) (3.2.0)\n",
      "Requirement already satisfied: six in /opt/conda/lib/python3.8/site-packages (from absl-py<2,>=0.9->kfp==2.0.0b8) (1.16.0)\n",
      "Requirement already satisfied: wrapt<2,>=1.10 in /opt/conda/lib/python3.8/site-packages (from Deprecated<2,>=1.2.7->kfp==2.0.0b8) (1.14.1)\n",
      "Requirement already satisfied: termcolor in /opt/conda/lib/python3.8/site-packages (from fire<1,>=0.3.1->kfp==2.0.0b8) (2.0.1)\n",
      "Requirement already satisfied: requests<3.0.0dev,>=2.18.0 in /opt/conda/lib/python3.8/site-packages (from google-api-core!=2.0.*,!=2.1.*,!=2.2.*,!=2.3.0,<3.0.0dev,>=1.31.5->kfp==2.0.0b8) (2.28.1)\n",
      "Requirement already satisfied: googleapis-common-protos<2.0dev,>=1.56.2 in /opt/conda/lib/python3.8/site-packages (from google-api-core!=2.0.*,!=2.1.*,!=2.2.*,!=2.3.0,<3.0.0dev,>=1.31.5->kfp==2.0.0b8) (1.56.4)\n",
      "Requirement already satisfied: pyasn1-modules>=0.2.1 in /opt/conda/lib/python3.8/site-packages (from google-auth<3,>=1.6.1->kfp==2.0.0b8) (0.2.8)\n",
      "Requirement already satisfied: cachetools<5.0,>=2.0.0 in /opt/conda/lib/python3.8/site-packages (from google-auth<3,>=1.6.1->kfp==2.0.0b8) (4.2.4)\n",
      "Requirement already satisfied: rsa<5,>=3.1.4 in /opt/conda/lib/python3.8/site-packages (from google-auth<3,>=1.6.1->kfp==2.0.0b8) (4.9)\n",
      "Requirement already satisfied: setuptools>=40.3.0 in /opt/conda/lib/python3.8/site-packages (from google-auth<3,>=1.6.1->kfp==2.0.0b8) (65.3.0)\n",
      "Requirement already satisfied: google-resumable-media>=2.3.2 in /opt/conda/lib/python3.8/site-packages (from google-cloud-storage<3,>=2.2.1->kfp==2.0.0b8) (2.3.3)\n",
      "Requirement already satisfied: google-cloud-core<3.0dev,>=2.3.0 in /opt/conda/lib/python3.8/site-packages (from google-cloud-storage<3,>=2.2.1->kfp==2.0.0b8) (2.3.2)\n",
      "Requirement already satisfied: attrs>=17.4.0 in /opt/conda/lib/python3.8/site-packages (from jsonschema<4,>=3.0.1->kfp==2.0.0b8) (22.1.0)\n",
      "Requirement already satisfied: pyrsistent>=0.14.0 in /opt/conda/lib/python3.8/site-packages (from jsonschema<4,>=3.0.1->kfp==2.0.0b8) (0.18.1)\n",
      "Requirement already satisfied: certifi in /opt/conda/lib/python3.8/site-packages (from kfp-server-api<3.0.0,>=2.0.0a0->kfp==2.0.0b8) (2022.9.14)\n",
      "Requirement already satisfied: python-dateutil in /opt/conda/lib/python3.8/site-packages (from kfp-server-api<3.0.0,>=2.0.0a0->kfp==2.0.0b8) (2.8.2)\n",
      "Requirement already satisfied: urllib3>=1.15 in /opt/conda/lib/python3.8/site-packages (from kfp-server-api<3.0.0,>=2.0.0a0->kfp==2.0.0b8) (1.26.11)\n",
      "Requirement already satisfied: requests-oauthlib in /opt/conda/lib/python3.8/site-packages (from kubernetes<24,>=8.0.0->kfp==2.0.0b8) (1.3.1)\n",
      "Requirement already satisfied: websocket-client!=0.40.0,!=0.41.*,!=0.42.*,>=0.32.0 in /opt/conda/lib/python3.8/site-packages (from kubernetes<24,>=8.0.0->kfp==2.0.0b8) (1.4.1)\n",
      "Requirement already satisfied: wheel in /opt/conda/lib/python3.8/site-packages (from strip-hints<1,>=0.1.8->kfp==2.0.0b8) (0.37.1)\n",
      "Requirement already satisfied: google-crc32c<2.0dev,>=1.0 in /opt/conda/lib/python3.8/site-packages (from google-resumable-media>=2.3.2->google-cloud-storage<3,>=2.2.1->kfp==2.0.0b8) (1.5.0)\n",
      "Requirement already satisfied: pyasn1<0.5.0,>=0.4.6 in /opt/conda/lib/python3.8/site-packages (from pyasn1-modules>=0.2.1->google-auth<3,>=1.6.1->kfp==2.0.0b8) (0.4.8)\n",
      "Requirement already satisfied: idna<4,>=2.5 in /opt/conda/lib/python3.8/site-packages (from requests<3.0.0dev,>=2.18.0->google-api-core!=2.0.*,!=2.1.*,!=2.2.*,!=2.3.0,<3.0.0dev,>=1.31.5->kfp==2.0.0b8) (3.4)\n",
      "Requirement already satisfied: charset-normalizer<3,>=2 in /opt/conda/lib/python3.8/site-packages (from requests<3.0.0dev,>=2.18.0->google-api-core!=2.0.*,!=2.1.*,!=2.2.*,!=2.3.0,<3.0.0dev,>=1.31.5->kfp==2.0.0b8) (2.1.1)\n",
      "Requirement already satisfied: oauthlib>=3.0.0 in /opt/conda/lib/python3.8/site-packages (from requests-oauthlib->kubernetes<24,>=8.0.0->kfp==2.0.0b8) (3.2.1)\n",
      "Installing collected packages: cloudpickle, kfp-server-api, google-cloud-storage, kfp\n",
      "  Attempting uninstall: cloudpickle\n",
      "    Found existing installation: cloudpickle 1.6.0\n",
      "    Uninstalling cloudpickle-1.6.0:\n",
      "      Successfully uninstalled cloudpickle-1.6.0\n",
      "  Attempting uninstall: kfp-server-api\n",
      "    Found existing installation: kfp-server-api 1.8.5\n",
      "    Uninstalling kfp-server-api-1.8.5:\n",
      "      Successfully uninstalled kfp-server-api-1.8.5\n",
      "  Attempting uninstall: google-cloud-storage\n",
      "    Found existing installation: google-cloud-storage 1.44.0\n",
      "    Uninstalling google-cloud-storage-1.44.0:\n",
      "      Successfully uninstalled google-cloud-storage-1.44.0\n",
      "Successfully installed cloudpickle-2.2.0 google-cloud-storage-2.6.0 kfp-2.0.0b8 kfp-server-api-2.0.0a6\n"
     ]
    }
   ],
   "source": [
    "!pip install --upgrade kfp==2.0.0b8"
   ]
  },
  {
   "cell_type": "code",
   "execution_count": 3,
   "id": "0d2711f3-1129-4eff-8586-ee25f0068a61",
   "metadata": {},
   "outputs": [],
   "source": [
    "import os\n",
    "\n",
    "from kfp import compiler\n",
    "from kfp import dsl"
   ]
  },
  {
   "cell_type": "code",
   "execution_count": 4,
   "id": "cc4f19c7-4a32-4039-81b9-eb81251807a7",
   "metadata": {},
   "outputs": [],
   "source": [
    "import kfp"
   ]
  },
  {
   "cell_type": "code",
   "execution_count": 5,
   "id": "8d57cf44-932d-47b8-bcce-83d7806633c2",
   "metadata": {},
   "outputs": [
    {
     "data": {
      "text/plain": [
       "'2.0.0-beta.8'"
      ]
     },
     "execution_count": 5,
     "metadata": {},
     "output_type": "execute_result"
    }
   ],
   "source": [
    "kfp.__version__"
   ]
  },
  {
   "cell_type": "code",
   "execution_count": 6,
   "id": "45f49a2c-9c9f-4257-a3b6-6edbf9084349",
   "metadata": {},
   "outputs": [],
   "source": [
    "@dsl.container_component\n",
    "def container_no_input():\n",
    "    return dsl.ContainerSpec(\n",
    "        image='python:3.7',\n",
    "        command=['echo', 'hello world'],\n",
    "        args=[],\n",
    "    )\n",
    "@dsl.pipeline(name='v2-container-component-no-input')\n",
    "def pipeline_container_no_input():\n",
    "    container_no_input()\n"
   ]
  },
  {
   "cell_type": "code",
   "execution_count": 8,
   "id": "4961ff9d-c76f-47c8-a018-d2259cfd8ed4",
   "metadata": {},
   "outputs": [],
   "source": [
    "#mode=kfp.dsl.PipelineExecutionMode.V2_COMPATIBLE\n",
    "cmplr=compiler.Compiler()"
   ]
  },
  {
   "cell_type": "code",
   "execution_count": 9,
   "id": "20ff2645-bf45-40b4-9a46-d5272cdf7e0f",
   "metadata": {},
   "outputs": [],
   "source": [
    "cmplr.compile(pipeline_func=pipeline_container_no_input,\n",
    "        package_path='pipeline_container_no_input.yaml')"
   ]
  }
 ],
 "metadata": {
  "kernelspec": {
   "display_name": "Python 3 (ipykernel)",
   "language": "python",
   "name": "python3"
  },
  "language_info": {
   "codemirror_mode": {
    "name": "ipython",
    "version": 3
   },
   "file_extension": ".py",
   "mimetype": "text/x-python",
   "name": "python",
   "nbconvert_exporter": "python",
   "pygments_lexer": "ipython3",
   "version": "3.8.10"
  }
 },
 "nbformat": 4,
 "nbformat_minor": 5
}
