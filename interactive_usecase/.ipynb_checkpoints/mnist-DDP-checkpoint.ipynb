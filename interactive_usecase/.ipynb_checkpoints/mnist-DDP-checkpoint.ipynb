{
 "cells": [
  {
   "cell_type": "code",
   "execution_count": 1,
   "id": "676bec04-be43-4f80-8906-2e380966c3e6",
   "metadata": {},
   "outputs": [],
   "source": [
    "import os\n",
    "from datetime import datetime\n",
    "import argparse\n",
    "import torch.multiprocessing as mp\n",
    "import torchvision\n",
    "import torchvision.transforms as transforms\n",
    "import torch\n",
    "import torch.nn as nn\n",
    "import torch.distributed as dist\n",
    "from torch.nn.parallel import DistributedDataParallel as DDP\n",
    "from torch.cuda import amp"
   ]
  },
  {
   "cell_type": "code",
   "execution_count": 8,
   "id": "4a332b5a-bc31-47fa-9df1-33af4f7a1753",
   "metadata": {},
   "outputs": [],
   "source": [
    "nodes=1\n",
    "gpus=2\n",
    "nr=0\n",
    "master_addr='127.0.0.1'\n",
    "master_port='10000'\n",
    "\n",
    "batch_size=256\n",
    "epochs=20\n",
    "\n",
    "world_size = gpus * nodes\n"
   ]
  },
  {
   "cell_type": "code",
   "execution_count": 9,
   "id": "fbffa366-f59f-4ad8-9c94-ca68870820d2",
   "metadata": {},
   "outputs": [],
   "source": [
    "os.environ['MASTER_ADDR']=master_addr\n",
    "os.environ['MASTER_PORT']=master_port"
   ]
  },
  {
   "cell_type": "code",
   "execution_count": 10,
   "id": "ef3f597b-0909-4c43-9f3b-3c77ef406371",
   "metadata": {},
   "outputs": [],
   "source": [
    "class ConvNet(nn.Module):\n",
    "    def __init__(self, num_classes=10):\n",
    "        super(ConvNet, self).__init__()\n",
    "        self.layer1 = nn.Sequential(\n",
    "            nn.Conv2d(1, 16, kernel_size=5, stride=1, padding=2),\n",
    "            nn.BatchNorm2d(16),\n",
    "            nn.ReLU(),\n",
    "            nn.MaxPool2d(kernel_size=2, stride=2))\n",
    "        self.layer2 = nn.Sequential(\n",
    "            nn.Conv2d(16, 32, kernel_size=5, stride=1, padding=2),\n",
    "            nn.BatchNorm2d(32),\n",
    "            nn.ReLU(),\n",
    "            nn.MaxPool2d(kernel_size=2, stride=2))\n",
    "        self.fc = nn.Linear(7*7*32, num_classes)\n",
    "    def forward(self, x):\n",
    "        out = self.layer1(x)\n",
    "        out = self.layer2(out)\n",
    "        out = out.reshape(out.size(0), -1)\n",
    "        out = self.fc(out)\n",
    "        return out"
   ]
  },
  {
   "cell_type": "code",
   "execution_count": 11,
   "id": "b393183d-7caf-4c6f-9b3f-4217d122ee28",
   "metadata": {},
   "outputs": [],
   "source": [
    "def train(gpu, nr,gpus,world_size,epochs,batch_size):\n",
    "    rank = nr * gpus + gpu\n",
    "    dist.init_process_group(backend='nccl', init_method='env://', \n",
    "                            world_size=world_size, rank=rank,\n",
    "                            )\n",
    "    torch.manual_seed(0)\n",
    "    model = ConvNet()\n",
    "    torch.cuda.set_device(gpu)\n",
    "    model.cuda(gpu)\n",
    "\n",
    "    # define loss function (criterion) and optimizer\n",
    "    criterion = nn.CrossEntropyLoss().cuda(gpu)\n",
    "    optimizer = torch.optim.SGD(model.parameters(), 1e-4)\n",
    "    # Wrap the model\n",
    "    model = nn.parallel.DistributedDataParallel(model, device_ids=[gpu])\n",
    "    # Data loading code\n",
    "    train_dataset = torchvision.datasets.MNIST(root='./data',\n",
    "                                               train=True,\n",
    "                                               transform=transforms.ToTensor(),\n",
    "                                               download=True)\n",
    "    train_sampler = torch.utils.data.distributed.DistributedSampler(train_dataset,\n",
    "                                                                    num_replicas=world_size,\n",
    "                                                                    rank=rank)\n",
    "    train_loader = torch.utils.data.DataLoader(dataset=train_dataset,\n",
    "                                               batch_size=batch_size,\n",
    "                                               shuffle=False,\n",
    "                                               num_workers=0,\n",
    "                                               pin_memory=True,\n",
    "                                               sampler=train_sampler)\n",
    "\n",
    "    start = datetime.now()\n",
    "    total_step = len(train_loader)\n",
    "    print(\"Starting the training loop\")\n",
    "    for epoch in range(epochs):\n",
    "        for i, (images, labels) in enumerate(train_loader):\n",
    "            images = images.cuda(non_blocking=True)\n",
    "            labels = labels.cuda(non_blocking=True)\n",
    "            # Forward pass\n",
    "            outputs = model(images)\n",
    "            loss = criterion(outputs, labels)\n",
    "\n",
    "            # Backward and optimize\n",
    "            optimizer.zero_grad()\n",
    "            loss.backward()\n",
    "            optimizer.step()\n",
    "            if (i + 1) % 100 == 0 and gpu == 0:\n",
    "                print('Epoch [{}/{}], Step [{}/{}], Loss: {:.4f}'.format(epoch + 1, epochs, i + 1, total_step,\n",
    "\n",
    "        loss.item()))\n",
    "    if gpu == 0:\n",
    "        print(\"Training complete in: \" + str(datetime.now() - start))\n"
   ]
  },
  {
   "cell_type": "code",
   "execution_count": 12,
   "id": "a351c57f-53a4-4f79-a8ec-73c9e8357fce",
   "metadata": {},
   "outputs": [
    {
     "name": "stdout",
     "output_type": "stream",
     "text": [
      "Starting the training loopStarting the training loop\n",
      "\n",
      "Epoch [1/20], Step [100/118], Loss: 2.1546\n",
      "Epoch [2/20], Step [100/118], Loss: 1.9839\n",
      "Epoch [3/20], Step [100/118], Loss: 1.8348\n",
      "Epoch [4/20], Step [100/118], Loss: 1.7014\n",
      "Epoch [5/20], Step [100/118], Loss: 1.5823\n",
      "Epoch [6/20], Step [100/118], Loss: 1.4763\n",
      "Epoch [7/20], Step [100/118], Loss: 1.3819\n",
      "Epoch [8/20], Step [100/118], Loss: 1.2979\n",
      "Epoch [9/20], Step [100/118], Loss: 1.2230\n",
      "Epoch [10/20], Step [100/118], Loss: 1.1559\n",
      "Epoch [11/20], Step [100/118], Loss: 1.0958\n",
      "Epoch [12/20], Step [100/118], Loss: 1.0415\n",
      "Epoch [13/20], Step [100/118], Loss: 0.9925\n",
      "Epoch [14/20], Step [100/118], Loss: 0.9480\n",
      "Epoch [15/20], Step [100/118], Loss: 0.9075\n",
      "Epoch [16/20], Step [100/118], Loss: 0.8705\n",
      "Epoch [17/20], Step [100/118], Loss: 0.8367\n",
      "Epoch [18/20], Step [100/118], Loss: 0.8056\n",
      "Epoch [19/20], Step [100/118], Loss: 0.7771\n",
      "Epoch [20/20], Step [100/118], Loss: 0.7507\n",
      "Training complete in: 0:00:50.690316\n"
     ]
    }
   ],
   "source": [
    "pool = mp.Pool(processes=world_size)"
   ]
  },
  {
   "cell_type": "code",
   "execution_count": 13,
   "id": "d7bdd79c-7659-4baa-8c7b-3b9236886ae0",
   "metadata": {},
   "outputs": [],
   "source": [
    "result = pool.starmap(train,[(gpu,nr,gpus,world_size,epochs,batch_size) for gpu in range(world_size)])"
   ]
  }
 ],
 "metadata": {
  "kernelspec": {
   "display_name": "Python 3",
   "language": "python",
   "name": "python3"
  },
  "language_info": {
   "codemirror_mode": {
    "name": "ipython",
    "version": 3
   },
   "file_extension": ".py",
   "mimetype": "text/x-python",
   "name": "python",
   "nbconvert_exporter": "python",
   "pygments_lexer": "ipython3",
   "version": "3.8.10"
  }
 },
 "nbformat": 4,
 "nbformat_minor": 5
}
