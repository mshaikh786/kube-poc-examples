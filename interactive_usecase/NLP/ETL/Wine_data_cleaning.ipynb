{
 "cells": [
  {
   "cell_type": "code",
   "execution_count": 2,
   "id": "fa1ff2cc-2983-44b6-b68d-d34d006007bd",
   "metadata": {},
   "outputs": [],
   "source": [
    "import pandas as pd\n",
    "import numpy as np"
   ]
  },
  {
   "cell_type": "markdown",
   "id": "40a54cbf-cf0c-4cd2-a244-353f3a3fd7f8",
   "metadata": {},
   "source": [
    "# Extraction"
   ]
  },
  {
   "cell_type": "code",
   "execution_count": 3,
   "id": "43619b32-00d7-44e5-909c-ac42ca60bb07",
   "metadata": {},
   "outputs": [],
   "source": [
    "wine_url = \"https://archive.ics.uci.edu/ml/machine-learning-databases/wine/wine.data\"\n",
    "wine_quality_url = \"https://archive.ics.uci.edu/ml/machine-learning-databases/wine-quality/winequality-red.csv\""
   ]
  },
  {
   "cell_type": "code",
   "execution_count": 5,
   "id": "a9a37509-b5c1-4893-987c-1048cd4bbae4",
   "metadata": {},
   "outputs": [],
   "source": [
    "wine_data = pd.read_csv(wine_url, header=None)"
   ]
  },
  {
   "cell_type": "code",
   "execution_count": 6,
   "id": "aef08ec0-2bb4-4b61-aad2-9670e5de1ca6",
   "metadata": {},
   "outputs": [],
   "source": [
    "wine_quality_data = pd.read_csv(wine_quality_url,header=None)"
   ]
  },
  {
   "cell_type": "code",
   "execution_count": 8,
   "id": "20c13a3c-a2eb-475c-a683-57e0482e6256",
   "metadata": {},
   "outputs": [
    {
     "name": "stdout",
     "output_type": "stream",
     "text": [
      "   0      1     2     3     4    5     6     7     8     9     10    11    12  \\\n",
      "0   1  14.23  1.71  2.43  15.6  127  2.80  3.06  0.28  2.29  5.64  1.04  3.92   \n",
      "1   1  13.20  1.78  2.14  11.2  100  2.65  2.76  0.26  1.28  4.38  1.05  3.40   \n",
      "2   1  13.16  2.36  2.67  18.6  101  2.80  3.24  0.30  2.81  5.68  1.03  3.17   \n",
      "3   1  14.37  1.95  2.50  16.8  113  3.85  3.49  0.24  2.18  7.80  0.86  3.45   \n",
      "4   1  13.24  2.59  2.87  21.0  118  2.80  2.69  0.39  1.82  4.32  1.04  2.93   \n",
      "\n",
      "     13  \n",
      "0  1065  \n",
      "1  1050  \n",
      "2  1185  \n",
      "3  1480  \n",
      "4   735  \n"
     ]
    }
   ],
   "source": [
    "print(wine_data.head())"
   ]
  },
  {
   "cell_type": "code",
   "execution_count": 9,
   "id": "bc89071e-3169-4ea7-afb4-bbe34446899e",
   "metadata": {},
   "outputs": [
    {
     "name": "stdout",
     "output_type": "stream",
     "text": [
      "                                                   0\n",
      "0  fixed acidity;\"volatile acidity\";\"citric acid\"...\n",
      "1   7.4;0.7;0;1.9;0.076;11;34;0.9978;3.51;0.56;9.4;5\n",
      "2   7.8;0.88;0;2.6;0.098;25;67;0.9968;3.2;0.68;9.8;5\n",
      "3  7.8;0.76;0.04;2.3;0.092;15;54;0.997;3.26;0.65;...\n",
      "4  11.2;0.28;0.56;1.9;0.075;17;60;0.998;3.16;0.58...\n"
     ]
    }
   ],
   "source": [
    "print(wine_quality_data.head())"
   ]
  },
  {
   "cell_type": "markdown",
   "id": "31498678-b589-49f4-966d-191f37a40d98",
   "metadata": {},
   "source": [
    "# Transformation"
   ]
  },
  {
   "cell_type": "code",
   "execution_count": 10,
   "id": "a3979b62-519c-481b-aeb6-8085d4b5c83c",
   "metadata": {},
   "outputs": [
    {
     "data": {
      "text/plain": [
       "Int64Index([0, 1, 2, 3, 4, 5, 6, 7, 8, 9, 10, 11, 12, 13], dtype='int64')"
      ]
     },
     "execution_count": 10,
     "metadata": {},
     "output_type": "execute_result"
    }
   ],
   "source": [
    "wine_data.columns"
   ]
  },
  {
   "cell_type": "code",
   "execution_count": null,
   "id": "bfabcf0c-5c19-4fa6-8936-2f367735c3fe",
   "metadata": {},
   "outputs": [],
   "source": [
    "Assignme"
   ]
  }
 ],
 "metadata": {
  "kernelspec": {
   "display_name": "Python 3 (ipykernel)",
   "language": "python",
   "name": "python3"
  },
  "language_info": {
   "codemirror_mode": {
    "name": "ipython",
    "version": 3
   },
   "file_extension": ".py",
   "mimetype": "text/x-python",
   "name": "python",
   "nbconvert_exporter": "python",
   "pygments_lexer": "ipython3",
   "version": "3.9.13"
  }
 },
 "nbformat": 4,
 "nbformat_minor": 5
}
