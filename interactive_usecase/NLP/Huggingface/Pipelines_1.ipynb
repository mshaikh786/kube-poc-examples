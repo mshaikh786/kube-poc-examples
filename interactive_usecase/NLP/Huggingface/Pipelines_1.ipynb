{
 "cells": [
  {
   "cell_type": "markdown",
   "id": "ae0ed9fc-dfc6-4458-92ae-9bc2c67fc3ff",
   "metadata": {},
   "source": [
    "# Sentiment analysis example"
   ]
  },
  {
   "cell_type": "code",
   "execution_count": 1,
   "id": "2f440783-0abe-495b-8274-71f94cb63363",
   "metadata": {
    "tags": []
   },
   "outputs": [],
   "source": [
    "from transformers import pipeline"
   ]
  },
  {
   "cell_type": "code",
   "execution_count": 2,
   "id": "9a24a9b9-af15-44ba-a5b9-b9a985f1dab8",
   "metadata": {
    "tags": []
   },
   "outputs": [
    {
     "name": "stderr",
     "output_type": "stream",
     "text": [
      "No model was supplied, defaulted to distilbert-base-uncased-finetuned-sst-2-english and revision af0f99b (https://huggingface.co/distilbert-base-uncased-finetuned-sst-2-english).\n",
      "Using a pipeline without specifying a model name and revision in production is not recommended.\n"
     ]
    }
   ],
   "source": [
    "classifier = pipeline('sentiment-analysis')"
   ]
  },
  {
   "cell_type": "code",
   "execution_count": 3,
   "id": "20804e37-fbdb-4d3c-9003-a1a11fbc1610",
   "metadata": {
    "tags": []
   },
   "outputs": [],
   "source": [
    "result = classifier(\"It's a bright shiny day\")"
   ]
  },
  {
   "cell_type": "code",
   "execution_count": 4,
   "id": "864325f6-d93d-486f-8a12-8351ae7a3de5",
   "metadata": {
    "tags": []
   },
   "outputs": [
    {
     "name": "stdout",
     "output_type": "stream",
     "text": [
      "[{'label': 'POSITIVE', 'score': 0.999675989151001}]\n"
     ]
    }
   ],
   "source": [
    "print(result)"
   ]
  },
  {
   "cell_type": "code",
   "execution_count": 5,
   "id": "486bf9f8-cb4c-40bc-8ebe-0e7f59815118",
   "metadata": {
    "tags": []
   },
   "outputs": [],
   "source": [
    "result = classifier(\"The traffic was pretty heavy today on my way here.\")"
   ]
  },
  {
   "cell_type": "code",
   "execution_count": 6,
   "id": "026fe0e4-4f31-483a-ae8d-49f7b5ec3c1e",
   "metadata": {
    "tags": []
   },
   "outputs": [
    {
     "name": "stdout",
     "output_type": "stream",
     "text": [
      "[{'label': 'NEGATIVE', 'score': 0.9912593960762024}]\n"
     ]
    }
   ],
   "source": [
    "print(result)"
   ]
  },
  {
   "cell_type": "markdown",
   "id": "dd08210c-0db9-4e12-a9cd-a6e6f8162826",
   "metadata": {},
   "source": [
    "# Text generation example"
   ]
  },
  {
   "cell_type": "code",
   "execution_count": 13,
   "id": "e45180e1-61bb-4525-8099-5f6268492b81",
   "metadata": {
    "tags": []
   },
   "outputs": [
    {
     "data": {
      "application/vnd.jupyter.widget-view+json": {
       "model_id": "a84b857cbfa74f6d9edf9b3e5e0af973",
       "version_major": 2,
       "version_minor": 0
      },
      "text/plain": [
       "config.json:   0%|          | 0.00/656 [00:00<?, ?B/s]"
      ]
     },
     "metadata": {},
     "output_type": "display_data"
    },
    {
     "data": {
      "application/vnd.jupyter.widget-view+json": {
       "model_id": "1d56ea918b7e456da74764e359776890",
       "version_major": 2,
       "version_minor": 0
      },
      "text/plain": [
       "model.safetensors:   0%|          | 0.00/479M [00:00<?, ?B/s]"
      ]
     },
     "metadata": {},
     "output_type": "display_data"
    },
    {
     "data": {
      "application/vnd.jupyter.widget-view+json": {
       "model_id": "e2c811c89436470cb58113439fac505e",
       "version_major": 2,
       "version_minor": 0
      },
      "text/plain": [
       "generation_config.json:   0%|          | 0.00/74.0 [00:00<?, ?B/s]"
      ]
     },
     "metadata": {},
     "output_type": "display_data"
    },
    {
     "data": {
      "application/vnd.jupyter.widget-view+json": {
       "model_id": "8511fc4a0a564e4388a3e418681ce018",
       "version_major": 2,
       "version_minor": 0
      },
      "text/plain": [
       "tokenizer_config.json:   0%|          | 0.00/25.0 [00:00<?, ?B/s]"
      ]
     },
     "metadata": {},
     "output_type": "display_data"
    },
    {
     "data": {
      "application/vnd.jupyter.widget-view+json": {
       "model_id": "14dc490db80542538428ceb2ac2e56be",
       "version_major": 2,
       "version_minor": 0
      },
      "text/plain": [
       "vocab.json:   0%|          | 0.00/816k [00:00<?, ?B/s]"
      ]
     },
     "metadata": {},
     "output_type": "display_data"
    },
    {
     "data": {
      "application/vnd.jupyter.widget-view+json": {
       "model_id": "74725f443b9c402fa467e70d32712f80",
       "version_major": 2,
       "version_minor": 0
      },
      "text/plain": [
       "merges.txt:   0%|          | 0.00/458k [00:00<?, ?B/s]"
      ]
     },
     "metadata": {},
     "output_type": "display_data"
    },
    {
     "data": {
      "application/vnd.jupyter.widget-view+json": {
       "model_id": "9f249a741ea647af84257e2092a15793",
       "version_major": 2,
       "version_minor": 0
      },
      "text/plain": [
       "tokenizer.json:   0%|          | 0.00/1.27M [00:00<?, ?B/s]"
      ]
     },
     "metadata": {},
     "output_type": "display_data"
    }
   ],
   "source": [
    "generator = pipeline(\"text-generation\",model=\"openai-gpt\")"
   ]
  },
  {
   "cell_type": "code",
   "execution_count": 18,
   "id": "fa65deae-f6c4-4eef-9169-9800a71480e4",
   "metadata": {
    "tags": []
   },
   "outputs": [],
   "source": [
    "result = generator(\n",
    "    \"The customer ordered a \",\n",
    "    max_length=30,\n",
    "    num_return_sequences=3)"
   ]
  },
  {
   "cell_type": "code",
   "execution_count": 19,
   "id": "824041dd-0abe-4559-94c1-377848c15837",
   "metadata": {
    "tags": []
   },
   "outputs": [
    {
     "name": "stdout",
     "output_type": "stream",
     "text": [
      "{'generated_text': 'The customer ordered a  bottle of bourbon and a tumbler of water. that was about the only thing the owner could see from under the brim of his cap'}\n",
      "{'generated_text': 'The customer ordered a  chicken sandwich. \\n \" you\\'re a liar! \" michael yelled as he jumped out and threw his food bag down. \\n \"'}\n",
      "{'generated_text': 'The customer ordered a  drink and then turned and made his way back toward the tables. i stared, not sure what to do. he appeared to be'}\n"
     ]
    }
   ],
   "source": [
    "for i in range(len(result)):\n",
    "    print(result[i])"
   ]
  },
  {
   "cell_type": "code",
   "execution_count": null,
   "id": "f4e4dbea-e6ea-4721-a9f9-2f440b6ee3e0",
   "metadata": {},
   "outputs": [],
   "source": []
  }
 ],
 "metadata": {
  "kernelspec": {
   "display_name": "Python 3 (ipykernel)",
   "language": "python",
   "name": "python3"
  },
  "language_info": {
   "codemirror_mode": {
    "name": "ipython",
    "version": 3
   },
   "file_extension": ".py",
   "mimetype": "text/x-python",
   "name": "python",
   "nbconvert_exporter": "python",
   "pygments_lexer": "ipython3",
   "version": "3.9.16"
  }
 },
 "nbformat": 4,
 "nbformat_minor": 5
}
