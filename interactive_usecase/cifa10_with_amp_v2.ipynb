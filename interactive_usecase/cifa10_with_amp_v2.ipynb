{
 "cells": [
  {
   "cell_type": "code",
   "execution_count": 1,
   "metadata": {},
   "outputs": [],
   "source": [
    "!pip install -q matplotlib torch-summary tensorboard"
   ]
  },
  {
   "cell_type": "code",
   "execution_count": 2,
   "metadata": {
    "collapsed": false,
    "jupyter": {
     "outputs_hidden": false
    }
   },
   "outputs": [],
   "source": [
    "%matplotlib inline"
   ]
  },
  {
   "cell_type": "markdown",
   "metadata": {},
   "source": [
    "\n",
    "# Training a Classifier\n",
    "\n",
    "This notebook is a first attempt to training a model on images of 10 classes from CIFAR10 dataset using PyTorch.\n",
    "We will be using a pre-defined Neural Network from Torchvision library of models to start with.\n",
    "\n",
    "## What about data?\n",
    "\n",
    "The data pipelines has 3 steps:\n",
    "1. Read image file from disk as numpy arrays -- (use Pillow library or Torchvision for preprocessed datasets with PIL images) \n",
    "2. Transform:\n",
    "    - Standardize the format of all images e.g. crop, resize, normalize etc\n",
    "    - convert numpy arrays to Tensors\n",
    "3. Batch multiple images together as input (and load in GPU memory if using GPU)\n",
    "\n",
    "For steps 1 to 3, PyTorch provides a convinient class called Dataloader.\n",
    "It support different input formats like image, videos and text, you can create a custom dataloader \n",
    "using this class and still benefit from the utility functions of the class.\n",
    "\n",
    "\n",
    "## Training an image classifier\n",
    "\n",
    "We will do the following steps in order:\n",
    "\n",
    "1. Load and normalize the CIFAR10 training and test datasets using\n",
    "   ``torchvision``\n",
    "2. Define a Convolutional Neural Network\n",
    "3. Define a loss function\n",
    "4. Train the network on the training data\n",
    "5. Test the network on the test data\n",
    "\n",
    "An AI framework provides library functions to implement the above steps. \n",
    "We are using PyTorch in our case but you can use any -- Tensorflow, Keras, MXNet, etc...  \n",
    "\n",
    "\n",
    "#### THIS NOTEBOOK IS ADAPTED FROM https://pytorch.org/tutorials/beginner/blitz/cifar10_tutorial.html?highlight=cifar10 "
   ]
  },
  {
   "cell_type": "code",
   "execution_count": 3,
   "metadata": {},
   "outputs": [],
   "source": [
    "# Funcitons for capturing time elapsed\n",
    "import time, gc\n",
    "\n",
    "# Timing utilities\n",
    "start_time = None\n",
    "\n",
    "def start_timer():\n",
    "    global start_time\n",
    "    gc.collect()\n",
    "    if torch.cuda.is_available():\n",
    "        torch.cuda.empty_cache()\n",
    "        torch.cuda.reset_max_memory_allocated()\n",
    "        torch.cuda.synchronize()\n",
    "    start_time = time.time()\n",
    "\n",
    "def end_timer_and_print(local_msg):\n",
    "    if torch.cuda.is_available():\n",
    "        torch.cuda.synchronize()\n",
    "    end_time = time.time()\n",
    "    print(\"\\n\" + local_msg)\n",
    "    print(\"Total execution time = {:.3f} sec\".format(end_time - start_time))\n",
    "    print(\"Max memory used by tensors = {} bytes\".format(torch.cuda.max_memory_allocated()))"
   ]
  },
  {
   "cell_type": "code",
   "execution_count": 4,
   "metadata": {
    "collapsed": false,
    "jupyter": {
     "outputs_hidden": false
    }
   },
   "outputs": [
    {
     "name": "stderr",
     "output_type": "stream",
     "text": [
      "/opt/conda/lib/python3.8/site-packages/tqdm/auto.py:22: TqdmWarning: IProgress not found. Please update jupyter and ipywidgets. See https://ipywidgets.readthedocs.io/en/stable/user_install.html\n",
      "  from .autonotebook import tqdm as notebook_tqdm\n"
     ]
    }
   ],
   "source": [
    "import torch, datetime\n",
    "import torchvision\n",
    "import torchvision.transforms as transforms\n",
    "import torch.nn as nn\n",
    "import torch.nn.functional as F\n",
    "import torch.optim as optim\n",
    "from torch.utils.data import random_split\n",
    "\n",
    "import matplotlib.pyplot as plt\n",
    "import numpy as np\n",
    "from torchsummary import summary\n",
    "\n",
    "# Load CUDA AMP\n",
    "from torch.cuda import amp"
   ]
  },
  {
   "cell_type": "code",
   "execution_count": 5,
   "metadata": {},
   "outputs": [],
   "source": [
    "# import and instantiate tensorboard for monitoring model performance\n",
    "from torch.utils.tensorboard import SummaryWriter\n"
   ]
  },
  {
   "cell_type": "code",
   "execution_count": 6,
   "metadata": {},
   "outputs": [],
   "source": [
    "nodes=1\n",
    "gpus=1\n",
    "num_workers=1\n",
    "\n",
    "batch_size=16\n",
    "epochs=2\n",
    "\n",
    "torch.manual_seed(43)\n",
    "val_size = 5000"
   ]
  },
  {
   "cell_type": "markdown",
   "metadata": {},
   "source": [
    "# Dataset preparation\n",
    "\n",
    "For this tutorial, we will use the CIFAR10 dataset.\n",
    "It has the classes: ‘airplane’, ‘automobile’, ‘bird’, ‘cat’, ‘deer’,\n",
    "‘dog’, ‘frog’, ‘horse’, ‘ship’, ‘truck’. \n",
    "\n",
    "The images in CIFAR-10 are of\n",
    "size 3x32x32, i.e. 3-channel color images of 32x32 pixels in size.\n",
    "\n",
    "The output of torchvision datasets are PILImage images of range [0, 1].\n",
    "We transform them to Tensors of normalized range [-1, 1].\n"
   ]
  },
  {
   "cell_type": "markdown",
   "metadata": {},
   "source": [
    "# Get the dataset\n",
    "\n"
   ]
  },
  {
   "cell_type": "code",
   "execution_count": 8,
   "metadata": {
    "collapsed": false,
    "jupyter": {
     "outputs_hidden": false
    }
   },
   "outputs": [
    {
     "name": "stdout",
     "output_type": "stream",
     "text": [
      "Files already downloaded and verified\n",
      "Files already downloaded and verified\n"
     ]
    }
   ],
   "source": [
    "# Prepare training data\n",
    "transform = transforms.Compose(\n",
    "    [transforms.ToTensor(),\n",
    "     transforms.Normalize((0.5, 0.5, 0.5), (0.5, 0.5, 0.5))])\n",
    "\n",
    "dataset = torchvision.datasets.CIFAR10(root='./data', train=True,\n",
    "                                        download=True, transform=transform)\n",
    "\n",
    "train_size = len(dataset) - val_size\n",
    "trainset, valset = random_split(dataset, [train_size, val_size])\n",
    "\n",
    "\n",
    "trainloader = torch.utils.data.DataLoader(trainset, batch_size=batch_size,\n",
    "                                          shuffle=True, num_workers=num_workers, \n",
    "                                          pin_memory=True)\n",
    "\n",
    "valloader = torch.utils.data.DataLoader(valset, batch_size=batch_size,\n",
    "                                        shuffle=True, num_workers=num_workers,\n",
    "                                        pin_memory=True)\n",
    "# Prepare test data\n",
    "testset = torchvision.datasets.CIFAR10(root='./data', train=False,\n",
    "                                       download=True, transform=transform)\n",
    "testloader = torch.utils.data.DataLoader(testset, batch_size=batch_size,\n",
    "                                         shuffle=False, num_workers=num_workers,\n",
    "                                        pin_memory=True)\n",
    "\n",
    "classes = dataset.classes #('plane', 'car', 'bird', 'cat',\n",
    "           #'deer', 'dog', 'frog', 'horse', 'ship', 'truck')"
   ]
  },
  {
   "cell_type": "code",
   "execution_count": 9,
   "metadata": {},
   "outputs": [
    {
     "data": {
      "text/plain": [
       "['airplane',\n",
       " 'automobile',\n",
       " 'bird',\n",
       " 'cat',\n",
       " 'deer',\n",
       " 'dog',\n",
       " 'frog',\n",
       " 'horse',\n",
       " 'ship',\n",
       " 'truck']"
      ]
     },
     "execution_count": 9,
     "metadata": {},
     "output_type": "execute_result"
    }
   ],
   "source": [
    "classes"
   ]
  },
  {
   "cell_type": "markdown",
   "metadata": {},
   "source": [
    "**Lets check the shape of the training dataloader**"
   ]
  },
  {
   "cell_type": "markdown",
   "metadata": {},
   "source": [
    "THe above shows that we have a total of 50,000 pictures of 10 classes in training dataset. \n",
    "\n",
    "Setting the batch_size=4 means we that our input will be 4 pictures i.e. 4*(3x32x32) pixels fed to our model at a time.\n",
    "This implies that our training loop will do 50000/4 = 12500 trips across the PCIe bus. "
   ]
  },
  {
   "cell_type": "markdown",
   "metadata": {},
   "source": [
    "### Inspect training dataset \n",
    "Let us show some of the training images"
   ]
  },
  {
   "cell_type": "code",
   "execution_count": 10,
   "metadata": {
    "collapsed": false,
    "jupyter": {
     "outputs_hidden": false
    }
   },
   "outputs": [
    {
     "data": {
      "image/png": "[encoded data removed]",
      "text/plain": [
       "<Figure size 640x480 with 1 Axes>"
      ]
     },
     "metadata": {},
     "output_type": "display_data"
    },
    {
     "name": "stdout",
     "output_type": "stream",
     "text": [
      "automobile dog   bird  horse airplane airplane automobile bird  airplane frog  bird  bird  truck horse horse cat   dog   automobile dog   bird  deer  dog   dog   automobile airplane ship  ship  dog   truck deer  bird  dog   truck cat   horse airplane ship  frog  truck bird  automobile ship  dog   horse frog  frog  ship  deer  automobile dog   deer  airplane truck horse cat   frog  bird  dog   ship  bird  automobile frog  automobile frog  airplane deer  truck airplane dog   dog   bird  dog   frog  dog   airplane truck deer  dog   horse dog   bird  airplane horse airplane airplane ship  airplane airplane frog  dog   horse deer  deer  frog  cat   automobile dog   ship  bird  dog   cat   truck ship  deer  frog  truck horse horse deer  cat   cat   truck cat   deer  deer  horse deer  airplane bird  bird  automobile cat   cat   airplane frog  airplane cat   frog  cat   truck truck truck airplane ship  bird  ship  horse deer  bird  cat   dog   truck deer  cat   bird  deer  bird  automobile frog  dog   truck frog  deer  deer  cat   automobile frog  ship  automobile cat   frog  cat   dog   truck bird  automobile airplane deer  deer  cat   deer  airplane frog  cat   deer  deer  dog   airplane airplane truck automobile automobile frog  frog  ship  truck horse deer  automobile deer  dog   frog  deer  horse bird  deer  ship  ship  frog  cat   airplane frog  frog  bird  truck ship  ship  airplane airplane airplane horse truck airplane automobile horse bird  airplane frog  bird  frog  dog   cat   cat   cat   cat   dog   cat   truck deer  truck horse horse dog   dog   ship  truck airplane bird  dog   ship  cat   frog  ship  deer  automobile horse cat   dog   automobile airplane airplane horse bird  automobile truck frog \n"
     ]
    }
   ],
   "source": [
    "# functions to show an image\n",
    "\n",
    "def imshow(img):\n",
    "    img = img / 2 + 0.5     # unnormalize\n",
    "    npimg = img.numpy()\n",
    "    plt.imshow(np.transpose(npimg, (1, 2, 0)))\n",
    "    plt.show()\n",
    "\n",
    "\n",
    "# get some random training images\n",
    "dataiter = iter(trainloader)\n",
    "images, labels = dataiter.next()\n",
    "\n",
    "# show images\n",
    "imshow(torchvision.utils.make_grid(images))\n",
    "# print labels\n",
    "print(' '.join(f'{classes[labels[j]]:5s}' for j in range(batch_size)))"
   ]
  },
  {
   "cell_type": "markdown",
   "metadata": {},
   "source": [
    "### 2. Define a Convolutional Neural Network\n",
    "\n",
    "We can define our own model using PyTorch's nn class\n",
    "\n",
    "Here is a naive implementation of a CNN model:"
   ]
  },
  {
   "cell_type": "code",
   "execution_count": 11,
   "metadata": {},
   "outputs": [],
   "source": [
    "class Net(nn.Module):\n",
    "    def __init__(self):\n",
    "        super().__init__()\n",
    "        # Layers\n",
    "        self.conv1 = nn.Conv2d(3, 128, 5)\n",
    "        self.pool = nn.MaxPool2d(2, 2)\n",
    "        self.conv2 = nn.Conv2d(128, 16, 5)\n",
    "        self.fc1 = nn.Linear(16 * 5 * 5, 120)\n",
    "        self.fc2 = nn.Linear(120, 84)\n",
    "        self.fc3 = nn.Linear(84, 10)\n",
    "\n",
    "    # Activations    \n",
    "    def forward(self, x):\n",
    "        x = self.pool(F.relu(self.conv1(x)))\n",
    "        x = self.pool(F.relu(self.conv2(x)))\n",
    "        x = torch.flatten(x, 1) # flatten all dimensions except batch\n",
    "        x = F.relu(self.fc1(x))\n",
    "        x = F.relu(self.fc2(x))\n",
    "        x = self.fc3(x)\n",
    "        return x\n",
    "\n",
    "net=Net()"
   ]
  },
  {
   "cell_type": "markdown",
   "metadata": {},
   "source": [
    "**For this tutorial however, we will use pre-defined models from torchvision**"
   ]
  },
  {
   "cell_type": "code",
   "execution_count": 12,
   "metadata": {},
   "outputs": [],
   "source": [
    "net=torchvision.models.convnext_large()"
   ]
  },
  {
   "cell_type": "markdown",
   "metadata": {},
   "source": [
    "### Let's inspect the architecutre of this model?"
   ]
  },
  {
   "cell_type": "code",
   "execution_count": 13,
   "metadata": {},
   "outputs": [
    {
     "name": "stdout",
     "output_type": "stream",
     "text": [
      "======================================================================\n",
      "Layer (type:depth-idx)                        Param #\n",
      "======================================================================\n",
      "├─Sequential: 1-1                             --\n",
      "|    └─Conv2dNormActivation: 2-1              --\n",
      "|    |    └─Conv2d: 3-1                       9,408\n",
      "|    |    └─LayerNorm2d: 3-2                  384\n",
      "|    └─Sequential: 2-2                        --\n",
      "|    |    └─CNBlock: 3-3                      306,048\n",
      "|    |    └─CNBlock: 3-4                      306,048\n",
      "|    |    └─CNBlock: 3-5                      306,048\n",
      "|    └─Sequential: 2-3                        --\n",
      "|    |    └─LayerNorm2d: 3-6                  384\n",
      "|    |    └─Conv2d: 3-7                       295,296\n",
      "|    └─Sequential: 2-4                        --\n",
      "|    |    └─CNBlock: 3-8                      1,201,920\n",
      "|    |    └─CNBlock: 3-9                      1,201,920\n",
      "|    |    └─CNBlock: 3-10                     1,201,920\n",
      "|    └─Sequential: 2-5                        --\n",
      "|    |    └─LayerNorm2d: 3-11                 768\n",
      "|    |    └─Conv2d: 3-12                      1,180,416\n",
      "|    └─Sequential: 2-6                        --\n",
      "|    |    └─CNBlock: 3-13                     4,763,136\n",
      "|    |    └─CNBlock: 3-14                     4,763,136\n",
      "|    |    └─CNBlock: 3-15                     4,763,136\n",
      "|    |    └─CNBlock: 3-16                     4,763,136\n",
      "|    |    └─CNBlock: 3-17                     4,763,136\n",
      "|    |    └─CNBlock: 3-18                     4,763,136\n",
      "|    |    └─CNBlock: 3-19                     4,763,136\n",
      "|    |    └─CNBlock: 3-20                     4,763,136\n",
      "|    |    └─CNBlock: 3-21                     4,763,136\n",
      "|    |    └─CNBlock: 3-22                     4,763,136\n",
      "|    |    └─CNBlock: 3-23                     4,763,136\n",
      "|    |    └─CNBlock: 3-24                     4,763,136\n",
      "|    |    └─CNBlock: 3-25                     4,763,136\n",
      "|    |    └─CNBlock: 3-26                     4,763,136\n",
      "|    |    └─CNBlock: 3-27                     4,763,136\n",
      "|    |    └─CNBlock: 3-28                     4,763,136\n",
      "|    |    └─CNBlock: 3-29                     4,763,136\n",
      "|    |    └─CNBlock: 3-30                     4,763,136\n",
      "|    |    └─CNBlock: 3-31                     4,763,136\n",
      "|    |    └─CNBlock: 3-32                     4,763,136\n",
      "|    |    └─CNBlock: 3-33                     4,763,136\n",
      "|    |    └─CNBlock: 3-34                     4,763,136\n",
      "|    |    └─CNBlock: 3-35                     4,763,136\n",
      "|    |    └─CNBlock: 3-36                     4,763,136\n",
      "|    |    └─CNBlock: 3-37                     4,763,136\n",
      "|    |    └─CNBlock: 3-38                     4,763,136\n",
      "|    |    └─CNBlock: 3-39                     4,763,136\n",
      "|    └─Sequential: 2-7                        --\n",
      "|    |    └─LayerNorm2d: 3-40                 1,536\n",
      "|    |    └─Conv2d: 3-41                      4,720,128\n",
      "|    └─Sequential: 2-8                        --\n",
      "|    |    └─CNBlock: 3-42                     18,963,456\n",
      "|    |    └─CNBlock: 3-43                     18,963,456\n",
      "|    |    └─CNBlock: 3-44                     18,963,456\n",
      "├─AdaptiveAvgPool2d: 1-2                      --\n",
      "├─Sequential: 1-3                             --\n",
      "|    └─LayerNorm2d: 2-9                       3,072\n",
      "|    └─Flatten: 2-10                          --\n",
      "|    └─Linear: 2-11                           1,537,000\n",
      "======================================================================\n",
      "Total params: 197,767,336\n",
      "Trainable params: 197,767,336\n",
      "Non-trainable params: 0\n",
      "======================================================================\n"
     ]
    },
    {
     "data": {
      "text/plain": [
       "======================================================================\n",
       "Layer (type:depth-idx)                        Param #\n",
       "======================================================================\n",
       "├─Sequential: 1-1                             --\n",
       "|    └─Conv2dNormActivation: 2-1              --\n",
       "|    |    └─Conv2d: 3-1                       9,408\n",
       "|    |    └─LayerNorm2d: 3-2                  384\n",
       "|    └─Sequential: 2-2                        --\n",
       "|    |    └─CNBlock: 3-3                      306,048\n",
       "|    |    └─CNBlock: 3-4                      306,048\n",
       "|    |    └─CNBlock: 3-5                      306,048\n",
       "|    └─Sequential: 2-3                        --\n",
       "|    |    └─LayerNorm2d: 3-6                  384\n",
       "|    |    └─Conv2d: 3-7                       295,296\n",
       "|    └─Sequential: 2-4                        --\n",
       "|    |    └─CNBlock: 3-8                      1,201,920\n",
       "|    |    └─CNBlock: 3-9                      1,201,920\n",
       "|    |    └─CNBlock: 3-10                     1,201,920\n",
       "|    └─Sequential: 2-5                        --\n",
       "|    |    └─LayerNorm2d: 3-11                 768\n",
       "|    |    └─Conv2d: 3-12                      1,180,416\n",
       "|    └─Sequential: 2-6                        --\n",
       "|    |    └─CNBlock: 3-13                     4,763,136\n",
       "|    |    └─CNBlock: 3-14                     4,763,136\n",
       "|    |    └─CNBlock: 3-15                     4,763,136\n",
       "|    |    └─CNBlock: 3-16                     4,763,136\n",
       "|    |    └─CNBlock: 3-17                     4,763,136\n",
       "|    |    └─CNBlock: 3-18                     4,763,136\n",
       "|    |    └─CNBlock: 3-19                     4,763,136\n",
       "|    |    └─CNBlock: 3-20                     4,763,136\n",
       "|    |    └─CNBlock: 3-21                     4,763,136\n",
       "|    |    └─CNBlock: 3-22                     4,763,136\n",
       "|    |    └─CNBlock: 3-23                     4,763,136\n",
       "|    |    └─CNBlock: 3-24                     4,763,136\n",
       "|    |    └─CNBlock: 3-25                     4,763,136\n",
       "|    |    └─CNBlock: 3-26                     4,763,136\n",
       "|    |    └─CNBlock: 3-27                     4,763,136\n",
       "|    |    └─CNBlock: 3-28                     4,763,136\n",
       "|    |    └─CNBlock: 3-29                     4,763,136\n",
       "|    |    └─CNBlock: 3-30                     4,763,136\n",
       "|    |    └─CNBlock: 3-31                     4,763,136\n",
       "|    |    └─CNBlock: 3-32                     4,763,136\n",
       "|    |    └─CNBlock: 3-33                     4,763,136\n",
       "|    |    └─CNBlock: 3-34                     4,763,136\n",
       "|    |    └─CNBlock: 3-35                     4,763,136\n",
       "|    |    └─CNBlock: 3-36                     4,763,136\n",
       "|    |    └─CNBlock: 3-37                     4,763,136\n",
       "|    |    └─CNBlock: 3-38                     4,763,136\n",
       "|    |    └─CNBlock: 3-39                     4,763,136\n",
       "|    └─Sequential: 2-7                        --\n",
       "|    |    └─LayerNorm2d: 3-40                 1,536\n",
       "|    |    └─Conv2d: 3-41                      4,720,128\n",
       "|    └─Sequential: 2-8                        --\n",
       "|    |    └─CNBlock: 3-42                     18,963,456\n",
       "|    |    └─CNBlock: 3-43                     18,963,456\n",
       "|    |    └─CNBlock: 3-44                     18,963,456\n",
       "├─AdaptiveAvgPool2d: 1-2                      --\n",
       "├─Sequential: 1-3                             --\n",
       "|    └─LayerNorm2d: 2-9                       3,072\n",
       "|    └─Flatten: 2-10                          --\n",
       "|    └─Linear: 2-11                           1,537,000\n",
       "======================================================================\n",
       "Total params: 197,767,336\n",
       "Trainable params: 197,767,336\n",
       "Non-trainable params: 0\n",
       "======================================================================"
      ]
     },
     "execution_count": 13,
     "metadata": {},
     "output_type": "execute_result"
    }
   ],
   "source": [
    "summary(net)"
   ]
  },
  {
   "cell_type": "markdown",
   "metadata": {},
   "source": [
    "### 4. Train the network\n",
    "\n",
    "Now we have our dataset ready and CNN model defined, let's do the following, necessary for training a network\n",
    " - Define a Loss function\n",
    " - Define an optimizer\n",
    " - Define a training loop\n"
   ]
  },
  {
   "cell_type": "markdown",
   "metadata": {},
   "source": [
    "**But before going ahead let's select a deivce to trian on and MOVE our model to Device memory**"
   ]
  },
  {
   "cell_type": "code",
   "execution_count": 4,
   "metadata": {},
   "outputs": [
    {
     "ename": "NameError",
     "evalue": "name 'torch' is not defined",
     "output_type": "error",
     "traceback": [
      "\u001b[0;31m---------------------------------------------------------------------------\u001b[0m",
      "\u001b[0;31mNameError\u001b[0m                                 Traceback (most recent call last)",
      "Cell \u001b[0;32mIn [4], line 1\u001b[0m\n\u001b[0;32m----> 1\u001b[0m \u001b[38;5;28;01mif\u001b[39;00m \u001b[43mtorch\u001b[49m\u001b[38;5;241m.\u001b[39mcuda\u001b[38;5;241m.\u001b[39mis_available():\n\u001b[1;32m      2\u001b[0m     device \u001b[38;5;241m=\u001b[39m \u001b[38;5;124m'\u001b[39m\u001b[38;5;124mcuda\u001b[39m\u001b[38;5;124m'\u001b[39m\n\u001b[1;32m      3\u001b[0m     net\u001b[38;5;241m.\u001b[39mcuda(torch\u001b[38;5;241m.\u001b[39mcuda\u001b[38;5;241m.\u001b[39mcurrent_device());\n",
      "\u001b[0;31mNameError\u001b[0m: name 'torch' is not defined"
     ]
    }
   ],
   "source": [
    "\n",
    "if torch.cuda.is_available():\n",
    "    device = 'cuda'\n",
    "    net.cuda(torch.cuda.current_device());\n",
    "else:\n",
    "    device = 'cpu'\n",
    "\n",
    "print(device)\n"
   ]
  },
  {
   "cell_type": "markdown",
   "metadata": {},
   "source": [
    "### 3. Define a Loss function and optimizer\n",
    "Let's use a Classification Cross-Entropy loss and SGD with momentum.\n",
    "If trianing on GPUs, we can move the object for loss function to GPU memory as well \n",
    "\n"
   ]
  },
  {
   "cell_type": "code",
   "execution_count": 15,
   "metadata": {
    "collapsed": false,
    "jupyter": {
     "outputs_hidden": false
    }
   },
   "outputs": [],
   "source": [
    "criterion = nn.CrossEntropyLoss()\n",
    "if device == 'cuda':\n",
    "    criterion.cuda()\n",
    "optimizer = optim.SGD(net.parameters(), lr=0.001, momentum=0.9)"
   ]
  },
  {
   "cell_type": "code",
   "execution_count": 16,
   "metadata": {},
   "outputs": [],
   "source": [
    "scaler = amp.GradScaler()"
   ]
  },
  {
   "cell_type": "markdown",
   "metadata": {},
   "source": [
    "Let's define a training loop which does the following:\n",
    "- Read from training dataset images transformed tensors as batches as **inputs**\n",
    "- load **inputs** to device memory if training on a GPU\n",
    "- feed **inputs** to CNN and run a forward pass \n",
    "- Apply loss function and run a backward propation of loss on each layer\n",
    "- Optimize weights using the optimizer \n",
    "- Print average loss for every 2000 images trained\n",
    "We iterate over these step for N epochs. "
   ]
  },
  {
   "cell_type": "code",
   "execution_count": 17,
   "metadata": {},
   "outputs": [],
   "source": [
    "def accuracy(outputs, labels):\n",
    "    _, preds = torch.max(outputs, dim=1)\n",
    "    return torch.tensor(torch.sum(preds == labels).item() / len(preds))"
   ]
  },
  {
   "cell_type": "code",
   "execution_count": 18,
   "metadata": {
    "collapsed": false,
    "jupyter": {
     "outputs_hidden": false
    }
   },
   "outputs": [
    {
     "name": "stderr",
     "output_type": "stream",
     "text": [
      "/opt/conda/lib/python3.8/site-packages/torch/cuda/memory.py:278: FutureWarning: torch.cuda.reset_max_memory_allocated now calls torch.cuda.reset_peak_memory_stats, which resets /all/ peak memory stats.\n",
      "  warnings.warn(\n"
     ]
    },
    {
     "name": "stdout",
     "output_type": "stream",
     "text": [
      "[1] : Train loss:0.008 | Validation loss:0.007\n",
      "[2] : Train loss:0.007 | Validation loss:0.007\n",
      "\n",
      "Finished Training\n",
      "Total execution time = 41.834 sec\n",
      "Max memory used by tensors = 6036736512 bytes\n"
     ]
    }
   ],
   "source": [
    "net.to(memory_format=torch.channels_last);\n",
    "start_timer()\n",
    "writer = SummaryWriter(\"logs/min_%d\" %(datetime.datetime.now().minute))\n",
    "for epoch in range(epochs):  # loop over the dataset multiple times\n",
    "    \n",
    "    # Train loop\n",
    "    net.train()\n",
    "    train_loss = 0.0\n",
    "    for i, data in enumerate(trainloader, 0):\n",
    "        # get the inputs; data is a list of [inputs, labels]\n",
    "        inputs, labels = data[0],data[1]\n",
    "\n",
    "        # zero the parameter gradients\n",
    "        optimizer.zero_grad()\n",
    "        # forward + backward + optimize\n",
    "        with torch.cuda.amp.autocast(enabled=True):\n",
    "            if device == 'cuda':\n",
    "                inputs=inputs.cuda()\n",
    "                labels=labels.cuda()\n",
    "            outputs = net(inputs)\n",
    "            loss = criterion(outputs, labels)\n",
    "        scaler.scale(loss).backward()\n",
    "        scaler.step(optimizer)\n",
    "        scaler.update()\n",
    "        train_loss += loss.item()\n",
    "        \n",
    "    train_acc = accuracy(outputs,labels)\n",
    "    train_loss = train_loss / len(trainloader.dataset)\n",
    "    writer.add_scalar(\"Loss/train\", train_loss , epoch)\n",
    "    writer.add_scalar(\"Accuracy/train\", train_acc , epoch)\n",
    "\n",
    "    # Validation loop ( we won't backprop and optimize since this step is not training the model)\n",
    "    net.eval()\n",
    "    val_loss = 0.0\n",
    "    for i, data in enumerate(valloader, 0):\n",
    "        # get the inputs; data is a list of [inputs, labels]\n",
    "        inputs, labels = data[0],data[1]\n",
    "        if device == 'cuda':\n",
    "            inputs=inputs.cuda()\n",
    "            labels=labels.cuda()\n",
    "        outputs = net(inputs)\n",
    "        loss = criterion(outputs, labels)\n",
    "        val_loss += loss.item() #* data[0].size(0)\n",
    "\n",
    "    val_acc = accuracy(outputs,labels)\n",
    "    val_loss = val_loss / len(valloader.dataset)\n",
    "    writer.add_scalar(\"Loss/val\", val_loss , epoch)\n",
    "    writer.add_scalar(\"Accuracy/val\", val_acc , epoch)\n",
    "    print(f'[{epoch + 1}] : Train loss:{train_loss:.3f} | Validation loss:{val_loss:.3f}')\n",
    "\n",
    "    writer.flush\n",
    "    \n",
    "end_timer_and_print('Finished Training')\n",
    "writer.close()"
   ]
  },
  {
   "cell_type": "markdown",
   "metadata": {},
   "source": [
    "Let's quickly save our trained model:\n",
    "\n"
   ]
  },
  {
   "cell_type": "code",
   "execution_count": 19,
   "metadata": {
    "collapsed": false,
    "jupyter": {
     "outputs_hidden": false
    }
   },
   "outputs": [],
   "source": [
    "PATH = './cifar_net.pth'\n",
    "torch.save(net.state_dict(), PATH)"
   ]
  },
  {
   "cell_type": "markdown",
   "metadata": {},
   "source": [
    "See [here](https://pytorch.org/docs/stable/notes/serialization.html)\n",
    "for more details on saving PyTorch models.\n",
    "\n",
    "### 5. Test the network on the test data\n",
    "\n",
    "We have trained the network for 2 passes over the training dataset.\n",
    "But we need to check if the network has learnt anything at all.\n",
    "\n",
    "We will check this by predicting the class label that the neural network\n",
    "outputs, and checking it against the ground-truth. If the prediction is\n",
    "correct, we add the sample to the list of correct predictions.\n",
    "\n",
    "Okay, first step. Let us display an image from the test set to get familiar.\n",
    "\n"
   ]
  },
  {
   "cell_type": "code",
   "execution_count": null,
   "metadata": {
    "collapsed": false,
    "jupyter": {
     "outputs_hidden": false
    }
   },
   "outputs": [],
   "source": [
    "dataiter = iter(testloader)\n",
    "images, labels = dataiter.next()\n",
    "\n",
    "# print images\n",
    "imshow(torchvision.utils.make_grid(images))\n",
    "print('GroundTruth: ', ' '.join(f'{classes[labels[j]]:5s}' for j in range(4)))"
   ]
  },
  {
   "cell_type": "markdown",
   "metadata": {},
   "source": [
    "Next, let's load back in our saved model (note: saving and re-loading the model\n",
    "wasn't necessary here, we only did it to illustrate how to do so):\n",
    "\n"
   ]
  },
  {
   "cell_type": "code",
   "execution_count": null,
   "metadata": {
    "collapsed": false,
    "jupyter": {
     "outputs_hidden": false
    }
   },
   "outputs": [],
   "source": [
    "net = Net()\n",
    "net.load_state_dict(torch.load(PATH))"
   ]
  },
  {
   "cell_type": "markdown",
   "metadata": {},
   "source": [
    "Okay, now let us see what the neural network thinks these examples above are:\n",
    "\n"
   ]
  },
  {
   "cell_type": "code",
   "execution_count": null,
   "metadata": {
    "collapsed": false,
    "jupyter": {
     "outputs_hidden": false
    }
   },
   "outputs": [],
   "source": [
    "outputs = net(images)"
   ]
  },
  {
   "cell_type": "markdown",
   "metadata": {},
   "source": [
    "The outputs are energies for the 10 classes.\n",
    "The higher the energy for a class, the more the network\n",
    "thinks that the image is of the particular class.\n",
    "So, let's get the index of the highest energy:\n",
    "\n"
   ]
  },
  {
   "cell_type": "code",
   "execution_count": null,
   "metadata": {
    "collapsed": false,
    "jupyter": {
     "outputs_hidden": false
    }
   },
   "outputs": [],
   "source": [
    "_, predicted = torch.max(outputs, 1)\n",
    "\n",
    "print('Predicted: ', ' '.join(f'{classes[predicted[j]]:5s}'\n",
    "                              for j in range(4)))"
   ]
  },
  {
   "cell_type": "markdown",
   "metadata": {},
   "source": [
    "The results seem pretty good.\n",
    "\n",
    "Let us look at how the network performs on the whole dataset.\n",
    "\n"
   ]
  },
  {
   "cell_type": "code",
   "execution_count": null,
   "metadata": {
    "collapsed": false,
    "jupyter": {
     "outputs_hidden": false
    }
   },
   "outputs": [],
   "source": [
    "correct = 0\n",
    "total = 0\n",
    "# since we're not training, we don't need to calculate the gradients for our outputs\n",
    "with torch.no_grad():\n",
    "    for data in testloader:\n",
    "        images, labels = data\n",
    "        # calculate outputs by running images through the network\n",
    "        outputs = net(images)\n",
    "        # the class with the highest energy is what we choose as prediction\n",
    "        _, predicted = torch.max(outputs.data, 1)\n",
    "        total += labels.size(0)\n",
    "        correct += (predicted == labels).sum().item()\n",
    "\n",
    "print(f'Accuracy of the network on the 10000 test images: {100 * correct // total} %')"
   ]
  },
  {
   "cell_type": "markdown",
   "metadata": {},
   "source": [
    "That looks way better than chance, which is 10% accuracy (randomly picking\n",
    "a class out of 10 classes).\n",
    "Seems like the network learnt something.\n",
    "\n",
    "Hmmm, what are the classes that performed well, and the classes that did\n",
    "not perform well:\n",
    "\n"
   ]
  },
  {
   "cell_type": "code",
   "execution_count": null,
   "metadata": {
    "collapsed": false,
    "jupyter": {
     "outputs_hidden": false
    }
   },
   "outputs": [],
   "source": [
    "# prepare to count predictions for each class\n",
    "correct_pred = {classname: 0 for classname in classes}\n",
    "total_pred = {classname: 0 for classname in classes}\n",
    "\n",
    "# again no gradients needed\n",
    "with torch.no_grad():\n",
    "    for data in testloader:\n",
    "        images, labels = data\n",
    "        outputs = net(images)\n",
    "        _, predictions = torch.max(outputs, 1)\n",
    "        # collect the correct predictions for each class\n",
    "        for label, prediction in zip(labels, predictions):\n",
    "            if label == prediction:\n",
    "                correct_pred[classes[label]] += 1\n",
    "            total_pred[classes[label]] += 1\n",
    "\n",
    "\n",
    "# print accuracy for each class\n",
    "for classname, correct_count in correct_pred.items():\n",
    "    accuracy = 100 * float(correct_count) / total_pred[classname]\n",
    "    print(f'Accuracy for class: {classname:5s} is {accuracy:.1f} %')\n",
    "del net"
   ]
  },
  {
   "cell_type": "markdown",
   "metadata": {},
   "source": [
    "# Enabling PyTorch Profiler"
   ]
  }
 ],
 "metadata": {
  "kernelspec": {
   "display_name": "Python 3 (ipykernel)",
   "language": "python",
   "name": "python3"
  },
  "language_info": {
   "codemirror_mode": {
    "name": "ipython",
    "version": 3
   },
   "file_extension": ".py",
   "mimetype": "text/x-python",
   "name": "python",
   "nbconvert_exporter": "python",
   "pygments_lexer": "ipython3",
   "version": "3.8.10"
  }
 },
 "nbformat": 4,
 "nbformat_minor": 4
}
